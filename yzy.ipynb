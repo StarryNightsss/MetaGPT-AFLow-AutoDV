{
 "cells": [
  {
   "cell_type": "code",
   "execution_count": 1,
   "metadata": {},
   "outputs": [],
   "source": [
    "import json\n",
    "\n",
    "# sample 100 hard question from hotpotqa\n",
    "\n",
    "with open('hotpot.jsonl') as f:\n",
    "    data = [json.loads(line) for line in f]\n",
    "\n",
    "hard_data = [d for d in data if d['level'] == 'hard']\n",
    "# shuffle\n",
    "import random\n",
    "random.shuffle(hard_data)\n",
    "\n",
    "# permute the order of the questions, give new id\n",
    "for i, d in enumerate(hard_data):\n",
    "    d['_id'] = i\n",
    "\n",
    "with open('hotpot_100_hard.jsonl', 'w') as f:\n",
    "    for d in hard_data[:100]:\n",
    "        f.write(json.dumps(d) + '\\n')\n"
   ]
  },
  {
   "cell_type": "code",
   "execution_count": null,
   "metadata": {},
   "outputs": [],
   "source": []
  }
 ],
 "metadata": {
  "kernelspec": {
   "display_name": "metagpt",
   "language": "python",
   "name": "python3"
  },
  "language_info": {
   "codemirror_mode": {
    "name": "ipython",
    "version": 3
   },
   "file_extension": ".py",
   "mimetype": "text/x-python",
   "name": "python",
   "nbconvert_exporter": "python",
   "pygments_lexer": "ipython3",
   "version": "3.10.14"
  }
 },
 "nbformat": 4,
 "nbformat_minor": 2
}
